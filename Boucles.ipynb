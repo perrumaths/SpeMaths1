{
 "cells": [
  {
   "cell_type": "markdown",
   "metadata": {},
   "source": [
    "# Suite définie par un algorithme - 16/09/2020"
   ]
  },
  {
   "cell_type": "markdown",
   "metadata": {},
   "source": [
    "## Utilisation de l'interface\n",
    "Le texte qui suit est divisé en cellule. Certaines cellules contiennent du code Python. Ce code Python peut être modifié et exécuté.\n",
    "\n",
    "Pour modifier le code d'une cellule, il suffit de cliquer dans la cellule.\n",
    "\n",
    "**Pour exécuter le code d'une cellule, cliquer dans la cellule puis $\\boxed{Ctrl}$ + $\\boxed{Entr\\acute{e}e}$** (ou l'icone Exécuter)."
   ]
  },
  {
   "cell_type": "markdown",
   "metadata": {},
   "source": [
    "# Boucle « pour » : for"
   ]
  },
  {
   "cell_type": "code",
   "execution_count": 1,
   "metadata": {},
   "outputs": [
    {
     "name": "stdout",
     "output_type": "stream",
     "text": [
      "0\n",
      "1\n",
      "2\n",
      "3\n",
      "4\n",
      "5\n",
      "6\n",
      "7\n",
      "8\n",
      "9\n"
     ]
    }
   ],
   "source": [
    "for i in range(10):\n",
    "    print(i)"
   ]
  },
  {
   "cell_type": "markdown",
   "metadata": {},
   "source": [
    "La commande `print(i)` est exécuté pour toutes les valeurs de `i` allant de 0 à 9. Il y a 10 valeurs.\n",
    "\n",
    "### Exercice 1\n",
    "Remplacer `range(10)`, exécuter le code et bien observer le résultat dans les cas suivants :\n",
    "* On remplace `range(10)` par \n",
    "    * `range(6)`,\n",
    "    * `range(15)`.\n",
    "* On remplace `range(10)` par\n",
    "    * `range(0,10)`\n",
    "    * `range(3,10)`,\n",
    "    * `range(7,18)`.\n",
    "* On remplace `range(10)` par\n",
    "    * `range(0,10,1)`\n",
    "    * `range(0,10,2)`\n",
    "    * `range(0,10,3)`\n",
    "    * `range(13,30,5)`\n",
    "    \n",
    "**Attention** On ne peut utiliser que des valeurs entières. `range(0,10,0.5)` ou `range(2.5,10.5)` provoquent une erreur.\n",
    "    \n",
    "### Exercice 2\n",
    " Modifier le code pour qu'il écrive les listes de nombres suivantes :\n",
    " * 0, 1, 2, 3, 4, 5.\n",
    " * 4, 5, 6, 7.\n",
    " * 10, 11, 12, ... 20.\n",
    " * 10, 12, 14, ... 30.\n",
    " * 1, 4, 7, 10, ... 100."
   ]
  },
  {
   "cell_type": "markdown",
   "metadata": {},
   "source": [
    "# Suite définie par un programme python\n",
    "### Exercice 3\n",
    "Dans la cellule suivante, entrer le programme de l'exercice 5 (feuille d'exercice n°2), puis exécutez le code de la cellule.\n",
    "\n",
    "L'affichage obtenu doit être\n",
    "la suite de nombres : \n",
    "1 ;\n",
    "2 ;\n",
    "5 ;\n",
    "14 ;\n",
    "41"
   ]
  },
  {
   "cell_type": "code",
   "execution_count": null,
   "metadata": {},
   "outputs": [],
   "source": []
  },
  {
   "cell_type": "markdown",
   "metadata": {},
   "source": [
    "## Utilisation d'une fonction\n",
    "On peut utiliser une fonction python qui affiche $n$ termes de la suite, où $n$ sera le _paramètre_ de la fonction.\n",
    "\n",
    "### Exercice 4\n",
    "Compléter la fonction suivante et exécuter la cellule."
   ]
  },
  {
   "cell_type": "code",
   "execution_count": null,
   "metadata": {},
   "outputs": [],
   "source": [
    "def termes(n):\n",
    "    u = 1\n",
    "    for i in range(?):    # Ligne à compléter\n",
    "        print(u)\n",
    "        u = 3*u-1        "
   ]
  },
  {
   "cell_type": "markdown",
   "metadata": {},
   "source": [
    "### Exercice 5\n",
    "Vérifier le bon fonctionnement de la fonction terme dans la cellule suivante."
   ]
  },
  {
   "cell_type": "code",
   "execution_count": null,
   "metadata": {},
   "outputs": [],
   "source": []
  }
 ],
 "metadata": {
  "kernelspec": {
   "display_name": "Python 3",
   "language": "python",
   "name": "python3"
  },
  "language_info": {
   "codemirror_mode": {
    "name": "ipython",
    "version": 3
   },
   "file_extension": ".py",
   "mimetype": "text/x-python",
   "name": "python",
   "nbconvert_exporter": "python",
   "pygments_lexer": "ipython3",
   "version": "3.7.1"
  }
 },
 "nbformat": 4,
 "nbformat_minor": 2
}
