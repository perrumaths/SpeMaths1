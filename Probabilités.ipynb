{
 "cells": [
  {
   "cell_type": "markdown",
   "metadata": {},
   "source": [
    "# Simulation de lancers de pièces\n",
    "L'objectif est de simuler un grand nombre de fois le lancers d'une pièce, et de compter le nombre de FACEs."
   ]
  },
  {
   "cell_type": "code",
   "execution_count": 1,
   "metadata": {},
   "outputs": [
    {
     "data": {
      "text/plain": [
       "'PILE'"
      ]
     },
     "execution_count": 1,
     "metadata": {},
     "output_type": "execute_result"
    }
   ],
   "source": [
    "from random import randint # Importe la fonction randint de la librairie random\n",
    "\n",
    "def lancer():              # La fonction n'a pas de paramètre. Elle renvoie le résultat d'un lancer de pièce.\n",
    "    if randint(0,1) == 0:  # randint (0,1) renvoie un entier aléatoire compris entre 0 et 1.\n",
    "        return 'PILE'\n",
    "    else:\n",
    "        return 'FACE'\n",
    "\n",
    "lancer()"
   ]
  },
  {
   "cell_type": "markdown",
   "metadata": {},
   "source": [
    "La fonction lancer est maintenant définie. On exécute cette fonction 20 fois et on compte le nombre de FACEs."
   ]
  },
  {
   "cell_type": "code",
   "execution_count": 9,
   "metadata": {},
   "outputs": [
    {
     "data": {
      "text/plain": [
       "11"
      ]
     },
     "execution_count": 9,
     "metadata": {},
     "output_type": "execute_result"
    }
   ],
   "source": [
    "def NombreFaces():                 # La fonction renvoie le nombre de FACEs parmi 20 tirages.\n",
    "    nombre = 0                     # le nombre initial de FACEs est 0\n",
    "    for i in range(20):            # L'entier n parcourt l'ensemble 0, 1, 2 … 18, 19.\n",
    "        if lancer() == 'FACE':     # Si le résultat du lancer est FACE…\n",
    "            nombre = nombre + 1    # …le nombre augmente de 1\n",
    "    return nombre\n",
    "\n",
    "NombreFaces()"
   ]
  },
  {
   "cell_type": "markdown",
   "metadata": {},
   "source": [
    "**Question 1** Modifier la fonction précédente pour qu'elle prenne en paramètre le nombre $n$ de lancers à effectuer."
   ]
  },
  {
   "cell_type": "markdown",
   "metadata": {},
   "source": [
    "**Question 2** Compléter la fonction suivante qui, sur 1000 expériences de 20 lancers, renvoie le nombre de fois où on n'a obtenu que des FACEs.\n",
    "\n",
    "Attention : cette fonction n'est correcte que si la fonction NombreFaces a bien été modifiée."
   ]
  },
  {
   "cell_type": "code",
   "execution_count": null,
   "metadata": {},
   "outputs": [],
   "source": [
    "def NombreSucces():\n",
    "    nombre = 0\n",
    "    for i in range(1000):\n",
    "        if NombreFaces(20) == ???:\n",
    "            ???\n",
    "    return nombre\n",
    "\n",
    "NombreSucces()"
   ]
  },
  {
   "cell_type": "markdown",
   "metadata": {},
   "source": [
    "**Question 3** Modifier la fonction précédente de façon à ce qu'elle renvoie le nombre de succes sur 835000 expériences.\n",
    "\n",
    "Attention : l'exécution de cette fonction peut durer plusieurs secondes.\n",
    "\n",
    "Noter le résultat et comparer avec les autres.\n"
   ]
  },
  {
   "cell_type": "markdown",
   "metadata": {},
   "source": [
    "# Simulation de tirs au but\n",
    "On va simuler une séance de tirs au but.\n",
    "\n",
    "Au premier tir, la probabilité que le gardien arrête le tir est 0,3.\n",
    "Ensuite, la probabilité est \n",
    "- 0,5 si le gardien a arrêté le tir précédent,\n",
    "- 0,2 si le gardien n'a pas arrêté le tir précédent.\n",
    "\n",
    "On va utiliser des listes Python pour donner le résultat d'une séance de $n$ tirs. Si le gardien n'arrête pas le tir, on notera $0$, si le gardien arrête le tir, on notera $1$."
   ]
  },
  {
   "cell_type": "code",
   "execution_count": null,
   "metadata": {},
   "outputs": [],
   "source": []
  }
 ],
 "metadata": {
  "kernelspec": {
   "display_name": "Python 3",
   "language": "python",
   "name": "python3"
  },
  "language_info": {
   "codemirror_mode": {
    "name": "ipython",
    "version": 3
   },
   "file_extension": ".py",
   "mimetype": "text/x-python",
   "name": "python",
   "nbconvert_exporter": "python",
   "pygments_lexer": "ipython3",
   "version": "3.7.1"
  }
 },
 "nbformat": 4,
 "nbformat_minor": 2
}
