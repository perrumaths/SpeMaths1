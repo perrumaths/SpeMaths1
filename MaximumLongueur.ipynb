{
 "cells": [
  {
   "cell_type": "markdown",
   "metadata": {},
   "source": [
    "## Utilisation de l'interface\n",
    "Le texte qui suit est divisé en cellules. Certaines cellules contiennent du code Python. Ce code Python peut être modifié et **exécuté**.\n",
    "\n",
    "Pour modifier le code d'une cellule, il suffit de cliquer dans la cellule.\n",
    "\n",
    "**Pour exécuter le code d'une cellule, cliquer dans la cellule puis $\\boxed{Ctrl}$ + $\\boxed{Entr\\acute{e}e}$** (ou l'icone Exécuter)."
   ]
  },
  {
   "cell_type": "markdown",
   "metadata": {},
   "source": [
    "# Étude de quelques algorithmes\n",
    "## 1. Recherche d'un maximum par balayage\n",
    "\n",
    "Soit $f$ une fonction continue sur un intervalle $[a\\,;b]$.\n",
    "\n",
    "### Problème\n",
    "On suppose que $f$ est croissante sur $[a\\,;c]$ et décroissante sur $[c\\,;b]$, le réel $c$ étant inconnu mais dans l'intervalle $]a\\,;b[$.\n",
    "\n",
    "On cherche à déterminer une approximation numérique de $f(c)$, maximum de $f$ sur $[a\\,;b]$.\n",
    "\n",
    "### Méthode\n",
    "On balaye les valeurs de l'intervalle $[a\\,;b]$ avec un *pas* donné.\n",
    "\n",
    "On prend pour _approximation numérique_ du maximum la plus grande image trouvée.  \n",
    "(On ne peut pas obtenir d'encadrement du maximum par balayage)\n",
    "\n",
    "### Exemple\n",
    "On cherche le maximum de la fonction $f$ définie sur $[0\\,;5]$ par $f(x)=(10-2x)^2\\times x$. On admet que cette fonction est croissante, puis décroissante.\n",
    "\n",
    "![Courbe représentative de f](Courbe1.png)\n",
    "\n",
    "### a) Utilisation d'une fonction Python pour le calcul des valeurs de f\n",
    "On crée une fois pour toute une fonction Python permettant de calculer les images de cette fonction $f$ :"
   ]
  },
  {
   "cell_type": "code",
   "execution_count": null,
   "metadata": {},
   "outputs": [],
   "source": [
    "def f(x):                         # Définition de la fonction f\n",
    "    return (10-2*x)**2 * x        # La fonction retourne la valeur (10-2*x)**2 * x\n",
    "                                  # Rappel : on utilise ** pour calculer une puissance.\n",
    "\n",
    "print(f(0))                       # Affichage de la valeur f(0)\n",
    "print(f(1))                       # Affichage de la valeur f(1)\n",
    "# AJOUTER ICI l'affichage des valeurs suivantes : f(2), f(3), f(4), f(5)."
   ]
  },
  {
   "cell_type": "markdown",
   "metadata": {},
   "source": [
    "**EXERCICE 1** Modifier le code de la cellule précédente pour ajouter le calcul des valeurs suivantes.\n",
    "\n",
    "Exécuter le code avec **$\\boxed{Ctrl}$ + $\\boxed{Entr\\acute{e}e}$**.\n",
    "\n",
    "**Attention** Les cellules de code suivantes ne fonctionnent que si la fonction `f` a bien été définie, et donc si la cellule précédente a bien été exécutée.\n",
    "\n",
    "-----\n",
    "\n",
    "On peut automatiser le calcul de ces six valeurs :"
   ]
  },
  {
   "cell_type": "code",
   "execution_count": null,
   "metadata": {},
   "outputs": [],
   "source": [
    "for x in range(10):\n",
    "    print(f(x))"
   ]
  },
  {
   "cell_type": "markdown",
   "metadata": {},
   "source": [
    "### b) Balayage avec une boucle « for »\n",
    "**Aide** Pour les boucles avec Python, on peut consulter le fichier [boucle.ipynb](https://mybinder.org/v2/gh/perrumaths/Capes/master).\n",
    "\n",
    "On peut définir une fonction `maximumf`, utilisant une boucle `for`, qui renvoie la plus grande valeur calculée :"
   ]
  },
  {
   "cell_type": "code",
   "execution_count": null,
   "metadata": {},
   "outputs": [],
   "source": [
    "def maximumf():                            # Définition de la fonction maximumf\n",
    "    m = f(0)                               # La valeur initiale de m est f(0).\n",
    "    for x in range(6):                     # La variable x prend successivement les valeurs 0, 1, 2, 3, 4 et 5. \n",
    "        if f(x) > m:                       # Si f(x) est plus grand que m,\n",
    "            m = f(x)                       # on remplace m par f(x).\n",
    "    return m                               # La fonction retourne la valeur m.\n",
    "\n",
    "print(maximumf())                          # Affichage de la valeur retournée par la fonction maximumf."
   ]
  },
  {
   "cell_type": "markdown",
   "metadata": {},
   "source": [
    "### c) Balayage avec une boucle « while »\n",
    "**Remarque** Dans la fonction `maximumf` précédente, on n'a pas exploité le fait que la fonction $f$ est croissante, puis décroissante. En fait, on peut arrêter le calcul dès que `f(x)` devient inférieur à `m`.\n",
    "\n",
    "On définit une fonction `maximumw`, utilisant une boucle `while`."
   ]
  },
  {
   "cell_type": "code",
   "execution_count": null,
   "metadata": {},
   "outputs": [],
   "source": [
    "def maximumw():                            # Définition de la fonction maximumw\n",
    "    m = f(0)                               # La valeur initiale de m est f(0)\n",
    "    x = 0                                  # La valeur initiale de x est 0\n",
    "    while x <= 5 and f(x) >= m:            # Tant que les deux conditions sont vérifiées :\n",
    "        m = f(x)                           #    on remplace m par f(x),\n",
    "        x = x + 0.1                          #    on augmente x de 1 (ligne à modifier dans l'EXERCICE 2).\n",
    "    return m                               # La fonction retourne la valeur m.\n",
    "\n",
    "print(maximumw())                          # Affichage de la valeur retournée par la fonction maximumw."
   ]
  },
  {
   "cell_type": "markdown",
   "metadata": {},
   "source": [
    "On sort de la boucle `while`, dès que $x>5$ (ce qui signifie qu'on a balayé tout l'intervalle) ou que $f(x)\\leq m$ (ce qui signifie que $x$ est dans l'intervalle où $f$ est décroissante).\n",
    "\n",
    "La valeur retournée est donc bien la plus grande image possible lors du balayage.\n",
    "\n",
    "**EXERCICE 2** Modifier le code de la cellule précédente pour que l'intervalle soit balayé\n",
    "* avec un pas égal à 0.2 (l'approximation doit être `73.984`),\n",
    "* avec un pas égal à 0.1 (l'approximation doit être `74.052`).\n",
    "\n",
    "**Attention** Ne pas s'inquiéter si Python renvoie des valeurs numériques étranges du genre `73.9839999997` ou `73.984000002`. C'est « normal »…\n",
    "\n",
    "**EXERCICE 3** Modifier le code de la cellule suivante pour que le _pas_ soit un paramètre de la fonction `maximum`.  \n",
    "Le résultat de `maximum(0.01)` doit être `74.073852`."
   ]
  },
  {
   "cell_type": "code",
   "execution_count": null,
   "metadata": {},
   "outputs": [],
   "source": [
    "def maximum(pas):                          # Définition de la fonction maximumw avec un paramètre pas\n",
    "    m = f(0)\n",
    "    x = 0      \n",
    "    while x <= 5 and f(x) >= m:    \n",
    "        m = f(x)                   \n",
    "        x = x + pas                          # Ligne à modifier\n",
    "    return m                         \n",
    "\n",
    "print(maximum(0.01))        # Affichage de la valeur retournée par la fonction maximum avec un pas de 0.01\n",
    "print(maximum(0.001))\n",
    "print(maximum(0.00001))                      "
   ]
  },
  {
   "cell_type": "markdown",
   "metadata": {},
   "source": [
    "## 2. Algorithme de calcul approché de longueur d'une portion de courbe représentative de fonction\n",
    "Soit $g$ une fonction continue sur un intervalle $[a\\,;b]$ et $C$ sa courbe représentative **dans un repère orthormé**.\n",
    "\n",
    "### Problème\n",
    "\n",
    "On cherche à déterminer une approximation numérique de la longueur de $C$.\n",
    "\n",
    "### Méthode\n",
    "On partage l'intervalle $[a\\,;b]$ en petits intervalles ; sur chaque intervalle, on remplace la courbe $C$ par un segment et on additionne les longueurs de tous les segments.\n",
    "\n",
    "\n",
    "### Exemple\n",
    "On cherche la longueur la courbe représentative de la fonction carré entre le point d'abscisse 0 et le point d'abscisse 1.\n",
    "\n",
    "![Courbe représentative de g](Courbe2.png)\n",
    "\n",
    "On approche la longueur de l'arc de parabole (en bleu) par la longueur de la ligne brisée (en rouge) obtenue en divisant l'intervalle $[0\\,;1]$ en 4.\n",
    "\n",
    "### a) Utilisation d'une fonction Python pour le calcul des valeurs de g\n",
    "On crée une fois pour toute une fonction Python permettant de calculer les images de la fonction $g$ fonction carré :"
   ]
  },
  {
   "cell_type": "code",
   "execution_count": null,
   "metadata": {},
   "outputs": [],
   "source": [
    "def g(x):\n",
    "    return x**2\n",
    "\n",
    "g(0.5)"
   ]
  },
  {
   "cell_type": "markdown",
   "metadata": {},
   "source": [
    "### b) Fonction pour calculer la distance entre deux points de la courbe\n",
    "La distance entre deux points de la courbe d'abscisses $u$ et $v$ est\n",
    "$$ D = \\sqrt{(v-u)^2+(g(v)-g(u))^2}$$\n",
    "\n",
    "Pour calculer une racine carrée avec Python, il faut importer la fonction `sqrt` de la bibliothèque `math`. Par exemple :"
   ]
  },
  {
   "cell_type": "code",
   "execution_count": null,
   "metadata": {},
   "outputs": [],
   "source": [
    "from math import sqrt       # Pour importer sqrt.\n",
    "sqrt(25)                    # Pour calculer la racine carrée de 25."
   ]
  },
  {
   "cell_type": "markdown",
   "metadata": {},
   "source": [
    "**EXERCICE 4** Corriger la fonction `distance` suivante ayant pour paramètres `u` et `v` et retournant la distance calculée par la formule précédente.\n",
    "\n",
    "Le résutat attendu pour `distance(0.1,0.9)` est environ `1.131`."
   ]
  },
  {
   "cell_type": "code",
   "execution_count": null,
   "metadata": {},
   "outputs": [],
   "source": [
    "#### from math import sqrt\n",
    "\n",
    "def distance(u,v):\n",
    "    return sqrt((v-u)**2+(g(v)-g(u))**2)                     # Ligne à modifier avec la vraie formule\n",
    "\n",
    "print(distance(0.1,0.9))"
   ]
  },
  {
   "cell_type": "markdown",
   "metadata": {},
   "source": [
    "### c) Fonction pour calculer la longueur de l'arc de parabole\n",
    "**Principe** (avec un partage de l'intervalle en 4) : on initialise la longueur $L$ à 0.  \n",
    "On fait prendre à $x$ les valeurs $0\\times \\tfrac{1}{4}$, $1\\times \\tfrac{1}{4}$, $2\\times \\tfrac{1}{4}$ et $3\\times \\tfrac{1}{4}$ ; on calcule la distance entre les points de $C$ d'abscisses $x$ et $x+ \\tfrac{1}{4}$ et on l'ajoute à $L$.  \n",
    "On retourne la valeur de $L$.\n",
    "\n",
    "Avec Python : on définit la fonction `longueurligne` qui retourne la longueur de la ligne brisée.  \n",
    "(si la fonction `distance` a bien été modifiée, le résultat doit être environ `1.474`)"
   ]
  },
  {
   "cell_type": "code",
   "execution_count": null,
   "metadata": {},
   "outputs": [],
   "source": [
    "def longueurligne():\n",
    "    L = 0\n",
    "    for i in range(4):\n",
    "        x = i * 1/4\n",
    "        L = L + distance(x,x+1/4)\n",
    "    return L\n",
    "\n",
    "print(longueurligne())"
   ]
  },
  {
   "cell_type": "markdown",
   "metadata": {},
   "source": [
    "**EXERCICE 5** Écrire dans la cellule suivante la fonction `longueur` qui prend en paramètre le nombre de segments utilisés pour l'approximation.\n",
    "\n",
    "Déterminer l'approximation obtenue avec 1000 segments (environ `1.47894`)."
   ]
  },
  {
   "cell_type": "code",
   "execution_count": null,
   "metadata": {},
   "outputs": [],
   "source": [
    "def longueur(N):\n",
    "    L = 0\n",
    "    for i in range(N):\n",
    "        x = i * 1/N\n",
    "        L = L + distance(x,x+1/N)\n",
    "    return L\n",
    "\n",
    "print(longueur(1000))"
   ]
  },
  {
   "cell_type": "markdown",
   "metadata": {},
   "source": [
    "## 3. Recherche d'un maximum par dichotomie\n",
    "\n",
    "Soit $f$ une fonction continue sur un intervalle $[a\\,;b]$.\n",
    "\n",
    "### Problème\n",
    "On suppose que $f$ est croissante sur $[a\\,;c]$ et décroissante sur $[c\\,;b]$, le réel $c$ étant inconnu mais dans l'intervalle $]a\\,;b[$.\n",
    "\n",
    "On cherche à déterminer une approximation numérique de $f(c)$, maximum de $f$ sur $[a\\,;b]$.\n",
    "\n",
    "### Méthode\n",
    "Supposons que le maximum est entre $a$ et $b$ (c'est-à-dire que $f$ est croissante puis décroissante sur cet intervalle).  \n",
    "On partage l'intervalle $[a\\,;b]$ en quatre segments de même longueur : $[a\\,;u]$, $[u\\,;v]$, $[v\\,;w]$ et $[w\\,;b]$.  \n",
    "On calcule les images $f(u)$, $f(v)$ et $f(w)$. Trois cas sont possibles :\n",
    "\n",
    "1. $f(u)\\geqslant f(v)$ (et dans ce cas $f(v)\\geqslant f(w)$) : le maximum est atteint sur l'intervalle $[a\\,;v]$ sur lequel $f$ est croissante puis décroissante ;\n",
    "2. $f(v)\\leqslant f(w)$ (et dans ce cas $f(u)\\leqslant f(v)$) : le maximum est atteint sur l'intervalle $[v\\,;b]$ sur lequel $f$ est croissante puis décroissante ;\n",
    "3. $f(u)< f(v)$ et $f(v)> f(w)$ : le maximum est atteint sur l'intervalle $[u\\,;w]$ sur lequel $f$ est croissante puis décroissante.\n",
    "\n",
    "Dans les trois cas, on peut  restreindre la recherche à un intervalle de longueur deux fois plus petite, et recommencer.\n",
    "\n",
    "On arrête lorsque la longueur de l'intervalle est inférieure à un seuil que l'on s'est fixé. Une approximation du maximum peut alors être l'image du milieu de l'intervalle.\n",
    "\n",
    "**Attention** Cette méthode ne permet pas de donner un encadrement du maximum, mais seulement un encadrement de la valeur où ce maximum est atteint.\n",
    "\n",
    "### Exemple\n",
    "On cherche le maximum de la fonction $f$ définie sur $[0\\,;5]$ par $f(x)=(10-2x)^2\\times x$. On admet que cette fonction est croissante, puis décroissante.\n",
    "\n",
    "![Courbe représentative de f](Courbe1.png)\n",
    "\n",
    "### a) Utilisation d'une fonction Python pour le calcul des valeurs de f\n",
    "On crée une fois pour toute une fonction Python permettant de calculer les images de cette fonction $f$ :"
   ]
  },
  {
   "cell_type": "code",
   "execution_count": null,
   "metadata": {},
   "outputs": [],
   "source": [
    "def f(x):                         # Définition de la fonction f\n",
    "    return (10-2*x)**2 * x        # La fonction retourne la valeur (10-2*x)**2 * x\n",
    "                                  # Rappel : on utilise ** pour calculer une puissance."
   ]
  },
  {
   "cell_type": "markdown",
   "metadata": {},
   "source": [
    "### b) Fonction utilisant la dichotomie\n",
    "On définit maintenant la fonction `maximumd` qui renvoie une approximation numérique du maximum de $f$ :"
   ]
  },
  {
   "cell_type": "code",
   "execution_count": null,
   "metadata": {},
   "outputs": [],
   "source": [
    "def maximumd():\n",
    "    a = 0                          # Valeurs initiales de a et b.\n",
    "    b = 5\n",
    "    v = (a+b)/2                    # On calcule le milieu v de l'intervalle, et son image par f.\n",
    "    fv = f(v)                      \n",
    "    while (b-a) > 0.001:\n",
    "        u = (a+v)/2                # On calcule les valeurs u et w et leurs images.\n",
    "        fu = f(u)\n",
    "        w = (v+b)/2\n",
    "        fw = f(w)\n",
    "        if fu >= fv:               # Si on est dans le cas 1.\n",
    "            b = v   \n",
    "            v = u\n",
    "            fv = fu\n",
    "        elif fv <= fw:             # Sinon, si on est dans le cas 2.\n",
    "            a = v\n",
    "            v = w\n",
    "            fv = fw\n",
    "        else:                      # Sinon.\n",
    "            a = u\n",
    "            b = w\n",
    "    return fv\n",
    "\n",
    "maximumd()"
   ]
  },
  {
   "cell_type": "markdown",
   "metadata": {},
   "source": [
    "**EXERCICE 6** Modifier la fonction `maximumd` pour qu'elle admette un paramètre `seuil` et qu'elle s'arrête lorsque la longueur de l'intervalle $[a\\,;b]$ est inférieure à `seuil` (la fonction écrite correspond au cas où `seuil` vaut `0.001`).  \n",
    "Vérifier que la valeur obtenue pour `maximumd(0.000001)` est alors environ `74.074074074074`.\n",
    "\n",
    "**EXERCICE 7** Ajouter dans les fonctions `maximum` (dans la partie 1) et `maximumd` un compteur permettant d'afficher le nombre de boucles `while` effectuées pour calculer `maximum(0.000001)` et `maximumd(0.000001)`.  \n",
    "Comparer les temps de calcul…"
   ]
  },
  {
   "cell_type": "code",
   "execution_count": null,
   "metadata": {},
   "outputs": [],
   "source": [
    "def volume(x):\n",
    "    v = (10-2*x)*(10-2*x)*x\n",
    "    return v"
   ]
  },
  {
   "cell_type": "code",
   "execution_count": null,
   "metadata": {},
   "outputs": [],
   "source": [
    "volume(1.67)"
   ]
  }
 ],
 "metadata": {
  "kernelspec": {
   "display_name": "Python 3",
   "language": "python",
   "name": "python3"
  },
  "language_info": {
   "codemirror_mode": {
    "name": "ipython",
    "version": 3
   },
   "file_extension": ".py",
   "mimetype": "text/x-python",
   "name": "python",
   "nbconvert_exporter": "python",
   "pygments_lexer": "ipython3",
   "version": "3.7.1"
  }
 },
 "nbformat": 4,
 "nbformat_minor": 2
}
